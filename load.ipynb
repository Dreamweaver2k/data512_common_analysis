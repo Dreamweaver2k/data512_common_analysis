{
 "cells": [
  {
   "cell_type": "markdown",
   "metadata": {},
   "source": [
    "# Introduction\n",
    "This file extracts information from the wildfire dataset about fires within 1250 miles of Pullman, WA and after the year of 2023. This will likely take over an hour to run\n",
    "\n",
    "## Output\n",
    "This file creates an output of fires.json which has all the fires meeting the criteria of interest.\n",
    "\n",
    "## Acknowledgment\n",
    "This is adapted from the work of Dr. David W. McDonald whose source code can be found [here](https://colab.research.google.com/drive/1qNI6hji8CvDeBsnLDAhJXvaqf2gcg8UV#scrollTo=3dEmQWT5f1z5). This is provided under the [Creative Commons](https://creativecommons.org) [CC-BY license](https://creativecommons.org/licenses/by/4.0/)\n",
    "\n",
    "## License\n",
    "This code example was developed by Chandler Ault for use in DATA 512, a course in the UW MS Data Science degree program. This code is provided under the [Creative Commons](https://creativecommons.org) [CC-BY license](https://creativecommons.org/licenses/by/4.0/). \n"
   ]
  },
  {
   "cell_type": "code",
   "execution_count": 13,
   "metadata": {},
   "outputs": [],
   "source": [
    "from pandas_geojson import read_geojson\n",
    "from pyproj import Transformer, Geod\n",
    "import json"
   ]
  },
  {
   "cell_type": "code",
   "execution_count": 5,
   "metadata": {},
   "outputs": [],
   "source": [
    "\n",
    "f = './GeoJSON_Exports/USGS_Wildland_Fire_Combined_Dataset.json'\n"
   ]
  },
  {
   "cell_type": "code",
   "execution_count": 6,
   "metadata": {},
   "outputs": [],
   "source": [
    "import geojson\n",
    "with open(f) as f:\n",
    "    gj = geojson.load(f)\n",
    "features = gj['features'][0]\n"
   ]
  },
  {
   "cell_type": "code",
   "execution_count": 23,
   "metadata": {},
   "outputs": [
    {
     "name": "stdout",
     "output_type": "stream",
     "text": [
      "1870\n",
      "{'OBJECTID': 2, 'USGS_Assigned_ID': 2, 'Assigned_Fire_Type': 'Wildfire', 'Fire_Year': 1860, 'Fire_Polygon_Tier': 1, 'Fire_Attribute_Tiers': '1 (1)', 'GIS_Acres': 772.5182488669103, 'GIS_Hectares': 312.62704368482576, 'Source_Datasets': 'Comb_National_NIFC_Interagency_Fire_Perimeter_History (1)', 'Listed_Fire_Types': 'Wildfire (1)', 'Listed_Fire_Names': 'Harrison Lake (1)', 'Listed_Fire_Codes': 'No code provided (1)', 'Listed_Fire_IDs': '', 'Listed_Fire_IRWIN_IDs': '', 'Listed_Fire_Dates': 'Listed Other Fire Date(s): 2006-11-02 - NIFC DATE_CUR field (1)', 'Listed_Fire_Causes': '', 'Listed_Fire_Cause_Class': 'Undetermined (1)', 'Listed_Rx_Reported_Acres': None, 'Listed_Map_Digitize_Methods': 'Other (1)', 'Listed_Notes': '', 'Processing_Notes': '', 'Wildfire_Notice': 'Wildfire mapping prior to 1984 was inconsistent, infrequent, and done without the aid of more modern fire mapping methods (GPS and satellite imagery). Areas burned prior to 1984 in this dataset represent only a fraction of what actually burned. While areas burned on or after 1984 are much more accurate and complete, errors still can and do occur. This dataset represents the most complete set of digitized polygon fire data available to the public that we, the authors, were able to collect. It is not a complete collection of all wildfires burned during the time period it represents.', 'Prescribed_Burn_Notice': 'Prescribed fire data in this dataset represents only a fraction of the area burned in prescribed burns across all years due to lack of reporting, particularly on private lands. The missing prescribed burn data becomes more pronounced further back in time, particularly in the southeastern U.S.; however, errors and omissions still occur through the most recent years in this dataset. This dataset represents the most complete set of digitized polygon fire data available to the public that we, the authors, were able to collect. It is not a complete collection of all prescribed burns burned during the time period it represents.', 'Wildfire_and_Rx_Flag': None, 'Overlap_Within_1_or_2_Flag': None, 'Circleness_Scale': 0.07136670768872196, 'Circle_Flag': None, 'Exclude_From_Summary_Rasters': 'No', 'Shape_Length': 23462.28861270515, 'Shape_Area': 3126270.4368482577}\n",
      "<class 'int'>\n"
     ]
    }
   ],
   "source": [
    "features = gj['features'][0:]\n",
    "\n",
    "print(features[4]['attributes']['Fire_Year'])\n",
    "print(features[1]['attributes'])\n",
    "print(type(features[1]['attributes']['Fire_Year']))\n"
   ]
  },
  {
   "cell_type": "code",
   "execution_count": 39,
   "metadata": {},
   "outputs": [],
   "source": [
    "#\n",
    "#    Transform feature geometry data\n",
    "#\n",
    "#    The function takes one parameter, a list of ESRI:102008 coordinates that will be transformed to EPSG:4326\n",
    "#    The function returns a list of coordinates in EPSG:4326\n",
    "def convert_ring_to_epsg4326(ring_data=None):\n",
    "    converted_ring = list()\n",
    "    #\n",
    "    # We use a pyproj transformer that converts from ESRI:102008 to EPSG:4326 to transform the list of coordinates\n",
    "    to_epsg4326 = Transformer.from_crs(\"ESRI:102008\",\"EPSG:4326\")\n",
    "    # We'll run through the list transforming each ESRI:102008 x,y coordinate into a decimal degree lat,lon\n",
    "    for coord in ring_data:\n",
    "        lat,lon = to_epsg4326.transform(coord[0],coord[1])\n",
    "        new_coord = lat,lon\n",
    "        converted_ring.append(new_coord)\n",
    "    return converted_ring\n",
    "#    \n",
    "#    The function takes two parameters\n",
    "#        A place - which is coordinate point (list or tuple with two items, (lat,lon) in decimal degrees EPSG:4326\n",
    "#        Ring_data - a list of decimal degree coordinates for the fire boundary\n",
    "#\n",
    "#    The function returns a list containing the shortest distance to the perimeter and the point where that is\n",
    "#\n",
    "def shortest_distance_from_place_to_fire_perimeter(place=None,ring_data=None):\n",
    "    # convert the ring data to the right coordinate system\n",
    "    ring = convert_ring_to_epsg4326(ring_data)    \n",
    "    # create a epsg4326 compliant object - which is what the WGS84 ellipsoid is\n",
    "    geodcalc = Geod(ellps='WGS84')\n",
    "    closest_point = list()\n",
    "    threshold_distance = 1250\n",
    "    # run through each point in the converted ring data\n",
    "    for point in ring:\n",
    "        \n",
    "        # calculate the distance\n",
    "        d = geodcalc.inv(place[1],place[0],point[1],point[0])\n",
    "        # convert the distance to miles\n",
    "        distance_in_miles = d[2]*0.00062137\n",
    "        # print(distance_in_miles)\n",
    "        if distance_in_miles > threshold_distance + 500:\n",
    "            return [2*threshold_distance]\n",
    "        # if it's closer to the city than the point we have, save it\n",
    "        if not closest_point:\n",
    "            \n",
    "            closest_point.append(distance_in_miles)\n",
    "            closest_point.append(point)\n",
    "        elif closest_point and closest_point[0]>distance_in_miles:\n",
    "            closest_point = list()\n",
    "            closest_point.append(distance_in_miles)\n",
    "            closest_point.append(point)\n",
    "    return closest_point"
   ]
  },
  {
   "cell_type": "code",
   "execution_count": null,
   "metadata": {},
   "outputs": [],
   "source": [
    "fires = []\n",
    "CITY_LOCATIONS = {\n",
    "    'pullman' :       {'city'   : 'Pullman',\n",
    "                       'county' : 'Whitman',\n",
    "                       'state'  : 'Washington',\n",
    "                       'fips'   : '53075',\n",
    "                       'latlon' : [46.7298, -117.1817] }, \n",
    "   }\n",
    "place = CITY_LOCATIONS['pullman']['latlon']\n",
    "for i in range(0,len(gj)):\n",
    "    try:\n",
    "        if i%1000 == 0:\n",
    "            print(i)\n",
    "        \n",
    "        ring = gj[i]['geometry']['rings'][0]\n",
    "\n",
    "        selected_keys = ['USGS_Assigned_ID', 'Fire_Year', 'Assigned_Fire_Type', 'GIS_Acres', 'GIS_Hectares']\n",
    "        info ={key: gj[i]['attributes'][key] for key in selected_keys}\n",
    "        info['Distance'] = shortest_distance_from_place_to_fire_perimeter(place, ring)[0]\n",
    "        fires.append(info)\n",
    "    except:\n",
    "         print('failed')\n",
    "    \n",
    "with open('fires.json', 'w') as file:\n",
    "            json.dump(fires, file)"
   ]
  }
 ],
 "metadata": {
  "kernelspec": {
   "display_name": "homework1",
   "language": "python",
   "name": "python3"
  },
  "language_info": {
   "codemirror_mode": {
    "name": "ipython",
    "version": 3
   },
   "file_extension": ".py",
   "mimetype": "text/x-python",
   "name": "python",
   "nbconvert_exporter": "python",
   "pygments_lexer": "ipython3",
   "version": "3.11.5"
  }
 },
 "nbformat": 4,
 "nbformat_minor": 2
}
