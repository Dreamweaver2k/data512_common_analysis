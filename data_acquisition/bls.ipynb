{
 "cells": [
  {
   "cell_type": "markdown",
   "metadata": {},
   "source": [
    "# Introduction\n",
    "This file extracts information from the Bureau of Labor Statistics regarding average salaries and total workers in Whitman County, WA between 1990 and 2022. \n",
    "\n",
    "### Output\n",
    "* 'data512_common_analysis/data/wages_timeseries.csv'\n",
    "    > Average wage in dollars for ambulatory health care service workers between 2001 and 2022.\n",
    "* 'data512_common_analysis/data/employee_timeseries.csv' \n",
    "    > Average number of ambulatory health care service workers in thousands for every month in the fire season between 1990 and 2023. \n",
    "\n",
    "### Acknowledgment\n",
    "This is adapted from the work of Mark McEnearney whose source code is provided as reference by the BLS [here](https://www.bls.gov/developers/api_python.htm). The contents of this file use the [BLS API](https://www.bls.gov/developers/api_signature_v2.htm) (see [Terms of Service](https://www.bls.gov/developers/termsOfService.htm)) BLS.gov cannot vouch for the data or analyses derived from these data after the data have been retrieved from BLS.gov.\n",
    "\n",
    "### License\n",
    "This code example was developed by Chandler Ault for use in DATA 512, a course in the UW MS Data Science degree program. This code is provided under the [Creative Commons](https://creativecommons.org) [CC-BY license](https://creativecommons.org/licenses/by/4.0/). \n"
   ]
  },
  {
   "cell_type": "code",
   "execution_count": 1,
   "metadata": {},
   "outputs": [],
   "source": [
    "import requests\n",
    "import json\n",
    "import pandas as pd"
   ]
  },
  {
   "cell_type": "code",
   "execution_count": null,
   "metadata": {},
   "outputs": [],
   "source": [
    "\n",
    "import requests\n",
    "import json\n",
    "import prettytable\n",
    "import pandas as pd\n",
    "headers = {'Content-type': 'application/json'}\n",
    "\n",
    "s = ['ENU53075305621','CUSR0000SA0'] # If the first code does not retrieve data, go to https://www.bls.gov/data/ to retrieve wage data.\n",
    "\n",
    "cpi= []\n",
    "cpi_month = []\n",
    "cpi_year = []\n",
    "wages = []\n",
    "wage_year = []\n",
    "for i in range(2000, 2023,10):\n",
    "\n",
    "  data = json.dumps({\"seriesid\": s,\"startyear\":str(i), \"endyear\":str(i+9)})\n",
    "  p = requests.post('https://api.bls.gov/publicAPI/v2/timeseries/data/', data=data, headers=headers)\n",
    "\n",
    "  json_data = json.loads(p.text)\n",
    "\n",
    "  fire_season = ['May', 'June', 'July', 'August', 'September', 'October']\n",
    "  for series in json_data['Results']['series']:\n",
    "        seriesId = series['seriesID']\n",
    "        if seriesId == 'CUSR0000SA0':\n",
    "            for item in series['data']:\n",
    "                if item['periodName'] in fire_season:\n",
    "                    cpi.append(float(item['value']))\n",
    "                    cpi_month.append(item['periodName'])\n",
    "                    cpi_year.append(int(item['year']))\n",
    "        elif seriesId == 'ENU53075505621':\n",
    "            for item in series['data']:\n",
    "                wages.append(float(item['value']))\n",
    "                wage_year.append(int(item['year']))\n",
    "        else:\n",
    "            pass\n",
    "\n",
    "cpi_data = list(zip(cpi, cpi_month, cpi_year))\n",
    "df_cpi = pd.DataFrame(cpi_data, columns=['cpi', 'Month', 'Year'])\n",
    "df_cpi.to_csv('cpi.csv')\n",
    "\n",
    "wage_data = list(zip(wages, wage_year))\n",
    "df = pd.DataFrame(wage_data, columns=['Wages', 'Year'])\n",
    "df.to_csv('wages_timeseries.csv')\n",
    "\n"
   ]
  }
 ],
 "metadata": {
  "kernelspec": {
   "display_name": "ca",
   "language": "python",
   "name": "python3"
  },
  "language_info": {
   "codemirror_mode": {
    "name": "ipython",
    "version": 3
   },
   "file_extension": ".py",
   "mimetype": "text/x-python",
   "name": "python",
   "nbconvert_exporter": "python",
   "pygments_lexer": "ipython3",
   "version": "3.11.5"
  }
 },
 "nbformat": 4,
 "nbformat_minor": 2
}
