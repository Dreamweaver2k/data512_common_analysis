{
 "cells": [
  {
   "cell_type": "markdown",
   "metadata": {},
   "source": [
    "# Introduction\n",
    "This file extracts information from the wildfire dataset about fires and their distance from a target city. This will likely take over an hour to run.\n",
    "\n",
    "### Output\n",
    "This file creates an output of \n",
    "* 'data512_common_analysis/data/fires.json\n",
    "    > This file will contain the fire year, fire type, acres burned,hectares burned, and distance from the target city for every fire in the dataset. The target city is Pullman, WA for this file.\n",
    "    \n",
    "### Usage \n",
    "Due to the size of the dataset, you will need to download the source file from the USGS website [here](https://www.sciencebase.gov/catalog/item/61aa537dd34eb622f699df81) by clicking on \"GeoJSON Files.zip\"\n",
    "Once you have this folder downloaded, unzip it and either change the 'f' variable below to point to your export location or move the 'USGS_Wildland_Fire_Combined_Dataset.json' file into the 'GeoJSON_Exports' folder in this repository. The file should be a little over 3GB (as of 2023).\n",
    "\n",
    "### Acknowledgment\n",
    "This is adapted from the work of Dr. David W. McDonald whose source code can be found [here](https://colab.research.google.com/drive/1qNI6hji8CvDeBsnLDAhJXvaqf2gcg8UV#scrollTo=3dEmQWT5f1z5). This is provided under the [Creative Commons](https://creativecommons.org) [CC-BY license](https://creativecommons.org/licenses/by/4.0/)\n",
    "\n",
    "### License\n",
    "This code example was developed by Chandler Ault for use in DATA 512, a course in the UW MS Data Science degree program. This code is provided under the [Creative Commons](https://creativecommons.org) [CC-BY license](https://creativecommons.org/licenses/by/4.0/). \n"
   ]
  },
  {
   "cell_type": "code",
   "execution_count": 13,
   "metadata": {},
   "outputs": [],
   "source": [
    "from pandas_geojson import read_geojson\n",
    "from pyproj import Transformer, Geod\n",
    "import json"
   ]
  },
  {
   "cell_type": "code",
   "execution_count": 5,
   "metadata": {},
   "outputs": [],
   "source": [
    "# Change this to point to your file or move the file into the GeoJSON_Exports folder\n",
    "f = './GeoJSON_Exports/USGS_Wildland_Fire_Combined_Dataset.json'"
   ]
  },
  {
   "cell_type": "code",
   "execution_count": 6,
   "metadata": {},
   "outputs": [],
   "source": [
    "# Reads the file using geojson\n",
    "import geojson\n",
    "with open(f) as f:\n",
    "    gj = geojson.load(f)\n",
    "features = gj['features'][0]"
   ]
  },
  {
   "cell_type": "code",
   "execution_count": 39,
   "metadata": {},
   "outputs": [],
   "source": [
    "#\n",
    "#    Transform feature geometry data\n",
    "#\n",
    "#    The function takes one parameter, a list of ESRI:102008 coordinates that will be transformed to EPSG:4326\n",
    "#    The function returns a list of coordinates in EPSG:4326\n",
    "def convert_ring_to_epsg4326(ring_data=None):\n",
    "    converted_ring = list()\n",
    "    #\n",
    "    # We use a pyproj transformer that converts from ESRI:102008 to EPSG:4326 to transform the list of coordinates\n",
    "    to_epsg4326 = Transformer.from_crs(\"ESRI:102008\",\"EPSG:4326\")\n",
    "    # We'll run through the list transforming each ESRI:102008 x,y coordinate into a decimal degree lat,lon\n",
    "    for coord in ring_data:\n",
    "        lat,lon = to_epsg4326.transform(coord[0],coord[1])\n",
    "        new_coord = lat,lon\n",
    "        converted_ring.append(new_coord)\n",
    "    return converted_ring\n",
    "#    \n",
    "#    The function takes two parameters\n",
    "#        A place - which is coordinate point (list or tuple with two items, (lat,lon) in decimal degrees EPSG:4326\n",
    "#        Ring_data - a list of decimal degree coordinates for the fire boundary\n",
    "#\n",
    "#    The function returns a list containing the shortest distance to the perimeter and the point where that is\n",
    "#\n",
    "def shortest_distance_from_place_to_fire_perimeter(place=None,ring_data=None):\n",
    "    # convert the ring data to the right coordinate system\n",
    "    ring = convert_ring_to_epsg4326(ring_data)    \n",
    "    # create a epsg4326 compliant object - which is what the WGS84 ellipsoid is\n",
    "    geodcalc = Geod(ellps='WGS84')\n",
    "    closest_point = list()\n",
    "    # run through each point in the converted ring data\n",
    "    for point in ring:\n",
    "        \n",
    "        # calculate the distance\n",
    "        d = geodcalc.inv(place[1],place[0],point[1],point[0])\n",
    "        # convert the distance to miles\n",
    "        distance_in_miles = d[2]*0.00062137\n",
    "        # if it's closer to the city than the point we have, save it\n",
    "        if not closest_point:\n",
    "            \n",
    "            closest_point.append(distance_in_miles)\n",
    "            closest_point.append(point)\n",
    "        elif closest_point and closest_point[0]>distance_in_miles:\n",
    "            closest_point = list()\n",
    "            closest_point.append(distance_in_miles)\n",
    "            closest_point.append(point)\n",
    "    return closest_point"
   ]
  },
  {
   "cell_type": "code",
   "execution_count": null,
   "metadata": {},
   "outputs": [],
   "source": [
    "# Extract fires and their distance from a target city. Add the necessary information of a new city to CITY_LOCATIONS and change the place variable to point to that city\n",
    "# to get fires adjacent to other cities.\n",
    "fires = []\n",
    "CITY_LOCATIONS = {\n",
    "    'pullman' :       {'city'   : 'Pullman',\n",
    "                       'county' : 'Whitman',\n",
    "                       'state'  : 'Washington',\n",
    "                       'fips'   : '53075',\n",
    "                       'latlon' : [46.7298, -117.1817] }, \n",
    "   }\n",
    "place = CITY_LOCATIONS['pullman']['latlon']\n",
    "for i in range(0,len(gj)):\n",
    "    try:\n",
    "        if i%1000 == 0:\n",
    "            print(i)\n",
    "        \n",
    "        ring = gj[i]['geometry']['rings'][0]\n",
    "\n",
    "        selected_keys = ['USGS_Assigned_ID', 'Fire_Year', 'Assigned_Fire_Type', 'GIS_Acres', 'GIS_Hectares']\n",
    "        info ={key: gj[i]['attributes'][key] for key in selected_keys}\n",
    "        info['Distance'] = shortest_distance_from_place_to_fire_perimeter(place, ring)[0]\n",
    "        fires.append(info)\n",
    "    except:\n",
    "         print('failed')\n",
    "    \n",
    "with open('../data/fires.json', 'w') as file:\n",
    "            json.dump(fires, file)"
   ]
  }
 ],
 "metadata": {
  "kernelspec": {
   "display_name": "homework1",
   "language": "python",
   "name": "python3"
  },
  "language_info": {
   "codemirror_mode": {
    "name": "ipython",
    "version": 3
   },
   "file_extension": ".py",
   "mimetype": "text/x-python",
   "name": "python",
   "nbconvert_exporter": "python",
   "pygments_lexer": "ipython3",
   "version": "3.11.5"
  }
 },
 "nbformat": 4,
 "nbformat_minor": 2
}
