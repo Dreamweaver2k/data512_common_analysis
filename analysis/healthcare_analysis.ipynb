{
 "cells": [
  {
   "cell_type": "markdown",
   "metadata": {},
   "source": [
    "# Introduction\n",
    "This file is for analyzing smoke impact on the budget of healthcare services in Whitman County, WA. Specifically, ambulatory health care services. I do this by taking the smoke impact calculated in 'smoke_estimate.ipynb' and yearly population to predict wages*employees for the year using a multiple linear regression.\n",
    "\n",
    "### License\n",
    "This code example was developed by Chandler Ault for use in DATA 512, a course in the UW MS Data Science degree program. This code is provided under the [Creative Commons](https://creativecommons.org) [CC-BY license](https://creativecommons.org/licenses/by/4.0/). \n",
    "\n"
   ]
  },
  {
   "cell_type": "code",
   "execution_count": 1,
   "metadata": {},
   "outputs": [],
   "source": [
    "import pandas as pd\n",
    "import statsmodels.api as sm"
   ]
  },
  {
   "cell_type": "code",
   "execution_count": 2,
   "metadata": {},
   "outputs": [],
   "source": [
    "# Data loading and preprocessing.\n",
    "df_wages = pd.read_csv('../data/wages_timeseries.csv').reset_index(drop=True)\n",
    "\n",
    "df_employees = pd.read_csv('../data/employee_timeseries.csv').reset_index(drop=True)\n",
    "df_employees = df_employees.groupby('Year')['Employees'].mean().reset_index()\n",
    "\n",
    "df_smoke = pd.read_csv('../data/smoke_impact_timeseries.csv').reset_index(drop=True)\n",
    "df_smoke.rename(columns={'Fire_Year': 'Year'}, inplace=True)\n",
    "\n",
    "\n",
    "df_pop = pd.read_csv('../data/population_timeseries.csv').reset_index(drop=True)\n",
    "df_pop['Year'] = pd.to_datetime(df_pop['DATE']).dt.year\n",
    "df_pop.rename(columns={'WAWHIT5POP': 'Population'}, inplace=True)\n",
    "\n"
   ]
  },
  {
   "cell_type": "code",
   "execution_count": 4,
   "metadata": {},
   "outputs": [
    {
     "data": {
      "text/html": [
       "<div>\n",
       "<style scoped>\n",
       "    .dataframe tbody tr th:only-of-type {\n",
       "        vertical-align: middle;\n",
       "    }\n",
       "\n",
       "    .dataframe tbody tr th {\n",
       "        vertical-align: top;\n",
       "    }\n",
       "\n",
       "    .dataframe thead th {\n",
       "        text-align: right;\n",
       "    }\n",
       "</style>\n",
       "<table border=\"1\" class=\"dataframe\">\n",
       "  <thead>\n",
       "    <tr style=\"text-align: right;\">\n",
       "      <th></th>\n",
       "      <th>Year</th>\n",
       "      <th>smoke_impact</th>\n",
       "      <th>GIS_Acres</th>\n",
       "      <th>Employees</th>\n",
       "      <th>Wages</th>\n",
       "      <th>Population</th>\n",
       "    </tr>\n",
       "  </thead>\n",
       "  <tbody>\n",
       "    <tr>\n",
       "      <th>55</th>\n",
       "      <td>2019</td>\n",
       "      <td>1.313332</td>\n",
       "      <td>2.041146e+06</td>\n",
       "      <td>16.266667</td>\n",
       "      <td>55312.0</td>\n",
       "      <td>50.136</td>\n",
       "    </tr>\n",
       "    <tr>\n",
       "      <th>56</th>\n",
       "      <td>2020</td>\n",
       "      <td>8.033177</td>\n",
       "      <td>9.381456e+06</td>\n",
       "      <td>16.166667</td>\n",
       "      <td>58827.0</td>\n",
       "      <td>47.804</td>\n",
       "    </tr>\n",
       "    <tr>\n",
       "      <th>57</th>\n",
       "      <td>2021</td>\n",
       "      <td>NaN</td>\n",
       "      <td>NaN</td>\n",
       "      <td>16.700000</td>\n",
       "      <td>61150.0</td>\n",
       "      <td>43.238</td>\n",
       "    </tr>\n",
       "    <tr>\n",
       "      <th>58</th>\n",
       "      <td>2022</td>\n",
       "      <td>NaN</td>\n",
       "      <td>NaN</td>\n",
       "      <td>16.700000</td>\n",
       "      <td>64396.0</td>\n",
       "      <td>47.619</td>\n",
       "    </tr>\n",
       "    <tr>\n",
       "      <th>59</th>\n",
       "      <td>2023</td>\n",
       "      <td>NaN</td>\n",
       "      <td>NaN</td>\n",
       "      <td>17.416667</td>\n",
       "      <td>NaN</td>\n",
       "      <td>NaN</td>\n",
       "    </tr>\n",
       "  </tbody>\n",
       "</table>\n",
       "</div>"
      ],
      "text/plain": [
       "    Year  smoke_impact     GIS_Acres  Employees    Wages  Population\n",
       "55  2019      1.313332  2.041146e+06  16.266667  55312.0      50.136\n",
       "56  2020      8.033177  9.381456e+06  16.166667  58827.0      47.804\n",
       "57  2021           NaN           NaN  16.700000  61150.0      43.238\n",
       "58  2022           NaN           NaN  16.700000  64396.0      47.619\n",
       "59  2023           NaN           NaN  17.416667      NaN         NaN"
      ]
     },
     "execution_count": 4,
     "metadata": {},
     "output_type": "execute_result"
    }
   ],
   "source": [
    "# Join the data.\n",
    "df_final = df_smoke[['Year', 'smoke_impact', 'GIS_Acres']].merge(df_employees[['Year', 'Employees']], on='Year', how='outer')  # You can choose 'inner', 'left', 'right', or 'outer' for the 'how' parameter\n",
    "df_final = df_final.merge(df_wages[['Year', 'Wages']], on='Year', how='outer')\n",
    "df_final = df_final.merge(df_pop[['Year', 'Population']], on='Year', how='outer')\n",
    "\n",
    "df_final.tail()"
   ]
  },
  {
   "cell_type": "code",
   "execution_count": 8,
   "metadata": {},
   "outputs": [
    {
     "name": "stdout",
     "output_type": "stream",
     "text": [
      "                            OLS Regression Results                            \n",
      "==============================================================================\n",
      "Dep. Variable:                      y   R-squared:                       0.934\n",
      "Model:                            OLS   Adj. R-squared:                  0.926\n",
      "Method:                 Least Squares   F-statistic:                     120.7\n",
      "Date:                Thu, 07 Dec 2023   Prob (F-statistic):           8.98e-11\n",
      "Time:                        22:34:18   Log-Likelihood:                -246.77\n",
      "No. Observations:                  20   AIC:                             499.5\n",
      "Df Residuals:                      17   BIC:                             502.5\n",
      "Df Model:                           2                                         \n",
      "Covariance Type:            nonrobust                                         \n",
      "================================================================================\n",
      "                   coef    std err          t      P>|t|      [0.025      0.975]\n",
      "--------------------------------------------------------------------------------\n",
      "const        -2.081e+06    1.8e+05    -11.555      0.000   -2.46e+06    -1.7e+06\n",
      "smoke_impact   1.04e+04   6485.527      1.604      0.127   -3279.647    2.41e+04\n",
      "Population    5.886e+04   4128.621     14.255      0.000    5.01e+04    6.76e+04\n",
      "==============================================================================\n",
      "Omnibus:                        5.237   Durbin-Watson:                   0.885\n",
      "Prob(Omnibus):                  0.073   Jarque-Bera (JB):                3.236\n",
      "Skew:                           0.951   Prob(JB):                        0.198\n",
      "Kurtosis:                       3.517   Cond. No.                         607.\n",
      "==============================================================================\n",
      "\n",
      "Notes:\n",
      "[1] Standard Errors assume that the covariance matrix of the errors is correctly specified.\n"
     ]
    }
   ],
   "source": [
    "# Create multiple linear regression.\n",
    "target_data = df_final[['smoke_impact', 'Population', 'Employees', 'Wages']]\n",
    "target_data = target_data.dropna()\n",
    "\n",
    "X = target_data[['smoke_impact', 'Population']]\n",
    "y = target_data['Wages']*target_data['Employees']\n",
    "\n",
    "X = sm.add_constant(X)\n",
    "\n",
    "model = sm.OLS(y, X).fit()\n",
    "\n",
    "summary = model.summary()\n",
    "\n",
    "print(summary)"
   ]
  }
 ],
 "metadata": {
  "kernelspec": {
   "display_name": "ca",
   "language": "python",
   "name": "python3"
  },
  "language_info": {
   "codemirror_mode": {
    "name": "ipython",
    "version": 3
   },
   "file_extension": ".py",
   "mimetype": "text/x-python",
   "name": "python",
   "nbconvert_exporter": "python",
   "pygments_lexer": "ipython3",
   "version": "3.11.5"
  }
 },
 "nbformat": 4,
 "nbformat_minor": 2
}
